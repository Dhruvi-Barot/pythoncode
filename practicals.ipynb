{
 "cells": [
  {
   "cell_type": "code",
   "execution_count": 5,
   "id": "e960a8a0-cfd5-4a3c-94e5-736983628d78",
   "metadata": {},
   "outputs": [
    {
     "name": "stdin",
     "output_type": "stream",
     "text": [
      " 10\n",
      " 20\n"
     ]
    },
    {
     "name": "stdout",
     "output_type": "stream",
     "text": [
      "The Multiplication of two numbers is:- 200\n",
      "The Sum of two numbers is:- 30\n"
     ]
    }
   ],
   "source": [
    "# 1.Write a Python code to calculate the multiplication and sum of two numbers.\n",
    "\n",
    "a = int(input())\n",
    "b = int(input())\n",
    "\n",
    "print(\"The Multiplication of two numbers is:-\", a*b)\n",
    "print(\"The Sum of two numbers is:-\", a+b)\n",
    "\n"
   ]
  },
  {
   "cell_type": "code",
   "execution_count": 11,
   "id": "217b224f-75c0-442c-8328-5235289607d3",
   "metadata": {},
   "outputs": [
    {
     "name": "stdin",
     "output_type": "stream",
     "text": [
      " 5\n"
     ]
    },
    {
     "name": "stdout",
     "output_type": "stream",
     "text": [
      "Current number 1 Previous number 0 sum:- 1\n",
      "Current number 2 Previous number 1 sum:- 3\n",
      "Current number 3 Previous number 2 sum:- 5\n",
      "Current number 4 Previous number 3 sum:- 7\n",
      "Current number 5 Previous number 4 sum:- 9\n"
     ]
    }
   ],
   "source": [
    "# 2.Write a Python code to print the Sum of a current number and a previous number \n",
    "# as per given range of numbers.\n",
    "\n",
    "a = int(input())\n",
    "\n",
    "if a == 0:\n",
    "    print(\"The sum is:-\", 0)\n",
    "else:\n",
    "    sum = 0; pn = 0\n",
    "    for i in range(1, a+1):\n",
    "        sum = pn + i\n",
    "        print(\"Current number\", i, \"Previous number\",pn,\"sum:-\", sum)\n",
    "        pn = i\n",
    "    "
   ]
  },
  {
   "cell_type": "code",
   "execution_count": 12,
   "id": "05256b88-ebd1-4b8d-9ce3-6a3278b52cdf",
   "metadata": {},
   "outputs": [
    {
     "name": "stdin",
     "output_type": "stream",
     "text": [
      " Hello DCS\n"
     ]
    },
    {
     "name": "stdout",
     "output_type": "stream",
     "text": [
      "Characters present at an even index number is:-\n",
      "H\n",
      "l\n",
      "o\n",
      "D\n",
      "S\n"
     ]
    }
   ],
   "source": [
    "# 3.Write a Python code to print characters present at an even index number.\n",
    "\n",
    "a = input()\n",
    "print(\"Characters present at an even index number is:-\")\n",
    "for i in range(0,len(a)):\n",
    "    if i%2 == 0:\n",
    "        print(a[i])\n"
   ]
  },
  {
   "cell_type": "code",
   "execution_count": 1,
   "id": "be40880c-e871-4fe8-97e8-efa412e2724b",
   "metadata": {},
   "outputs": [
    {
     "name": "stdin",
     "output_type": "stream",
     "text": [
      " dhruvi\n",
      " 4\n"
     ]
    },
    {
     "name": "stdout",
     "output_type": "stream",
     "text": [
      "The String after removing the first 4 char is:- vi\n"
     ]
    }
   ],
   "source": [
    "# 4.Write a Python code to remove first n characters from a string.\n",
    "a = input()\n",
    "n = int(input())\n",
    "print(f\"The String after removing the first {n} char is:-\",a.replace(a[:n], ''))\n",
    "\n"
   ]
  },
  {
   "cell_type": "code",
   "execution_count": 70,
   "id": "8de76cf3-0824-4b2b-bfb4-105206397295",
   "metadata": {},
   "outputs": [
    {
     "name": "stdin",
     "output_type": "stream",
     "text": [
      " 10 11 10\n"
     ]
    },
    {
     "name": "stdout",
     "output_type": "stream",
     "text": [
      "[10, 11, 10]\n",
      "Are the first and last number of list same???\n",
      "YES\n"
     ]
    }
   ],
   "source": [
    "# 5.Write a Python code to check if the first and \n",
    "# last numbers of a list are the same.\n",
    "\n",
    "l1 = [int(x) for x in input().split()]\n",
    "\n",
    "print(l1)\n",
    "print(\"Are the first and last number of list same???\")\n",
    "if l1[0] == l1[-1]:\n",
    "    print(\"YES\")\n",
    "else:\n",
    "    print(\"NO\")"
   ]
  },
  {
   "cell_type": "code",
   "execution_count": 14,
   "id": "6822ec3a-5354-4ebb-8e0c-e069ecf1970a",
   "metadata": {},
   "outputs": [
    {
     "name": "stdin",
     "output_type": "stream",
     "text": [
      "Enter number---> 5,2,15\n"
     ]
    },
    {
     "name": "stdout",
     "output_type": "stream",
     "text": [
      "[5, 2, 15]\n",
      "5\n",
      "15\n"
     ]
    }
   ],
   "source": [
    "# 6.Write a Python code to display numbers from a list divisible by 5.\n",
    "\n",
    "l1 = [int(i) for i in input(\"Enter number--->\").split(\",\")]\n",
    "print(l1)\n",
    "count = 0\n",
    "\n",
    "for i in l1:\n",
    "    if i % 5 == 0:\n",
    "        print(i)\n",
    "        count += 1\n",
    "        continue\n",
    "if count == 0:\n",
    "    print(\"There is no any number which is divisible by 5\")"
   ]
  },
  {
   "cell_type": "code",
   "execution_count": 5,
   "id": "48471196-aaa9-48fa-b72e-001054a68632",
   "metadata": {},
   "outputs": [
    {
     "name": "stdout",
     "output_type": "stream",
     "text": [
      "Original String is:- I am Dhruvi. My name is DHRUVI. Hello, Dhruvi\n",
      "Substring is:- Dhruvi\n",
      "The total number of appeared Substring is 2\n"
     ]
    }
   ],
   "source": [
    "#7.Write a Python code to find how often the \n",
    "# substring appears in the given string.\n",
    "\n",
    "a = \"I am Dhruvi. My name is DHRUVI. Hello, Dhruvi\"\n",
    "b = \"Dhruvi\"\n",
    "\n",
    "print(\"Original String is:-\",a)\n",
    "print(\"Substring is:-\",b)\n",
    "\n",
    "print(f\"The total number of appeared Substring is {a.count(b)}\")"
   ]
  },
  {
   "cell_type": "code",
   "execution_count": 76,
   "id": "20c942d0-d1c7-4be7-92a2-8f380babf08a",
   "metadata": {},
   "outputs": [
    {
     "name": "stdin",
     "output_type": "stream",
     "text": [
      " 5\n"
     ]
    },
    {
     "name": "stdout",
     "output_type": "stream",
     "text": [
      "5 * 1 = 5\n",
      "5 * 2 = 10\n",
      "5 * 3 = 15\n",
      "5 * 4 = 20\n",
      "5 * 5 = 25\n",
      "5 * 6 = 30\n",
      "5 * 7 = 35\n",
      "5 * 8 = 40\n",
      "5 * 9 = 45\n",
      "5 * 10 = 50\n"
     ]
    }
   ],
   "source": [
    "# 8.Write a Python code to print multiplication Table of a given number.\n",
    "\n",
    "a = int(input())\n",
    "\n",
    "for i in range(1, 11):\n",
    "    print(f\"{a} * {i} = {a*i}\")"
   ]
  },
  {
   "cell_type": "code",
   "execution_count": 4,
   "id": "d6d510ee-ce4f-4018-b13e-c1a4406679b1",
   "metadata": {},
   "outputs": [
    {
     "name": "stdin",
     "output_type": "stream",
     "text": [
      "enter number:  5\n"
     ]
    },
    {
     "name": "stdout",
     "output_type": "stream",
     "text": [
      "1 \n",
      "2 2 \n",
      "3 3 3 \n",
      "4 4 4 4 \n",
      "5 5 5 5 5 \n"
     ]
    }
   ],
   "source": [
    "# 9.\tWrite a Python code to print the following pattern.\n",
    "# 1\n",
    "# 2 2\n",
    "# 3 3 3\n",
    "# ………\n",
    "\n",
    "a = int(input(\"enter number: \"))\n",
    "\n",
    "for i in range(1,a+1):\n",
    "    for j in range(0,i):\n",
    "        print(i, end=\" \")\n",
    "    print()"
   ]
  },
  {
   "cell_type": "code",
   "execution_count": 5,
   "id": "76f53d05-95f6-46b4-a0a3-3c699512f625",
   "metadata": {},
   "outputs": [
    {
     "name": "stdin",
     "output_type": "stream",
     "text": [
      " 1221\n"
     ]
    },
    {
     "name": "stdout",
     "output_type": "stream",
     "text": [
      "the given number is palindrom\n"
     ]
    }
   ],
   "source": [
    "# 10.Write a Python code to check if the given number is palindrome or not.\n",
    "\n",
    "a = input()\n",
    "if a[::] == a[::-1]:\n",
    "    print(\"the given number is palindrom\")\n",
    "else:\n",
    "    print(\"the given number is not palindrome\")"
   ]
  },
  {
   "cell_type": "code",
   "execution_count": 1,
   "id": "2138cc72-430e-4233-ba75-ecc039141928",
   "metadata": {},
   "outputs": [
    {
     "name": "stdin",
     "output_type": "stream",
     "text": [
      "Enter elements:  2 3 4 5 6\n",
      "Enter elements:  1 8 3 5 4\n"
     ]
    },
    {
     "name": "stdout",
     "output_type": "stream",
     "text": [
      "[3, 5, 8, 4]\n"
     ]
    }
   ],
   "source": [
    "# 11.Given two lists of numbers, write a Python code to create a new list such\n",
    "#that the latest list should contain odd numbers from the first list and\n",
    "#even numbers from the second list.\n",
    "l1 = [int(i) for i in input(\"Enter elements: \").split()]\n",
    "l2 = [int(i) for i in input(\"Enter elements: \").split()]\n",
    "l3 = [i for i in l1 if i%2 != 0] + [i for i in l2 if i%2 == 0]\n",
    "print(l3)"
   ]
  },
  {
   "cell_type": "code",
   "execution_count": 2,
   "id": "918a0558-cb25-4978-ab64-f11b9d250b8d",
   "metadata": {},
   "outputs": [
    {
     "name": "stdin",
     "output_type": "stream",
     "text": [
      "Enter Number--> 234\n"
     ]
    },
    {
     "name": "stdout",
     "output_type": "stream",
     "text": [
      "432 <class 'int'>\n"
     ]
    }
   ],
   "source": [
    "# 12. Write a Python code to get each digit from a number in the reverse order.\n",
    "\n",
    "num = input(\"Enter Number-->\")\n",
    "num1 = int(num[::-1])\n",
    "print(num1, type(num1))"
   ]
  },
  {
   "cell_type": "code",
   "execution_count": 2,
   "id": "fcf71ac1-7cc9-4af3-a7b8-a4958749765a",
   "metadata": {},
   "outputs": [
    {
     "name": "stdin",
     "output_type": "stream",
     "text": [
      "enter the income:  45000\n"
     ]
    },
    {
     "name": "stdout",
     "output_type": "stream",
     "text": [
      "Given income 45000\n",
      "Total tax to pay is 6000.0\n"
     ]
    }
   ],
   "source": [
    "''' 13. Write a Python code to calculate income tax for the given income by adhering to the rules below.\n",
    "Taxable Income\tRate (in %)\n",
    "First $10,000\t0\n",
    "Next $10,000\t10\n",
    "The remaining\t20\n",
    "Expected Output:\n",
    "For example, suppose the income is 45000, and the income tax payable is\n",
    "10000*0% + 10000*10%  + 25000*20% = $6000.\n",
    "'''\n",
    "income = int(input(\"enter the income: \"))\n",
    "tax_payable = 0\n",
    "print(\"Given income\", income)\n",
    "\n",
    "if income <= 10000:\n",
    "    tax_payable = 0\n",
    "elif income <= 20000:\n",
    "    # no tax on first 10,000\n",
    "    x = income - 10000\n",
    "    # 10% tax\n",
    "    tax_payable = x * 10 / 100\n",
    "else:\n",
    "    # first 10,000\n",
    "    tax_payable = 0\n",
    "\n",
    "    # next 10,000 10% tax\n",
    "    tax_payable = 10000 * 10 / 100\n",
    "\n",
    "    # remaining 20%tax\n",
    "    tax_payable += (income - 20000) * 20 / 100\n",
    "\n",
    "print(\"Total tax to pay is\", tax_payable)\n"
   ]
  },
  {
   "cell_type": "code",
   "execution_count": 27,
   "id": "663c79b1-fdc0-4228-9cbf-9b25cf800279",
   "metadata": {},
   "outputs": [
    {
     "name": "stdin",
     "output_type": "stream",
     "text": [
      "Enter the Number---> 25\n"
     ]
    },
    {
     "name": "stdout",
     "output_type": "stream",
     "text": [
      "The sum of digits of a given number is---> 7\n"
     ]
    }
   ],
   "source": [
    "# 14. Write a Python code to find sum of digits of a given number.\n",
    "\n",
    "a = input(\"Enter the Number--->\")\n",
    "sum = 0\n",
    "for i in a:  \n",
    "    sum = sum + int(i)\n",
    "  \n",
    "print(\"The sum of digits of a given number is--->\",sum)\n",
    "\n",
    "\n",
    "# EXTRA\n",
    "\n",
    "# a = input(\"Enter the Number--->\")\n",
    "# b = list(int(i) for i in a)\n",
    "# sum = 0\n",
    "\n",
    "# for i in b:\n",
    "#    sum = sum + i\n",
    "\n",
    "# print(\"The sum of digits of a given number is--->\",sum)"
   ]
  },
  {
   "cell_type": "code",
   "execution_count": null,
   "id": "267650e5-dc59-4182-a889-3598ee1be153",
   "metadata": {},
   "outputs": [
    {
     "name": "stdin",
     "output_type": "stream",
     "text": [
      "enter the number:  8\n"
     ]
    },
    {
     "name": "stdout",
     "output_type": "stream",
     "text": [
      "0 1 1 2 3 5 8 13 "
     ]
    }
   ],
   "source": [
    "#15.Write a Python code to print Fibonacci series. [ 1 1 2 3 5 8…….]\n",
    "n= int(input(\"enter the number: \"))\n",
    "\n",
    "num1= 0\n",
    "num2= 1\n",
    "\n",
    "#print(\"fibonnaci series:\",num1,num2,end=\" \")\n",
    "# Check if input is 0 then it will\n",
    "# print incorrect input\n",
    "for i in range(0, n):\n",
    "    if n < 0:\n",
    "        print(\"Incorrect input\")\n",
    "\n",
    "# Check if n is 0\n",
    "# then it will return 0\n",
    "    elif n == 0:\n",
    "        print(0) \n",
    "\n",
    "# Check if n is 1,2\n",
    "# it will return 1\n",
    "    elif n == 1 or n == 2:\n",
    "        print (1, end=\" \")\n",
    "\n",
    "    else:\n",
    "        print(num1, end=\" \")\n",
    "        num1, num2 = num2, num1 + num2"
   ]
  },
  {
   "cell_type": "code",
   "execution_count": 3,
   "id": "ba3aca14-eefe-4fb2-95e1-71fa5deed1c9",
   "metadata": {},
   "outputs": [
    {
     "name": "stdin",
     "output_type": "stream",
     "text": [
      "enter the number:  8\n"
     ]
    },
    {
     "name": "stdout",
     "output_type": "stream",
     "text": [
      "0 1 1 2 3 5 8 13 "
     ]
    }
   ],
   "source": [
    "n= int(input(\"enter the number: \"))\n",
    "\n",
    "a= 0\n",
    "b= 1\n",
    "\n",
    "#print(\"fibonnaci series:\",num1,num2,end=\" \")\n",
    "# Check if input is 0 then it will\n",
    "# print incorrect input\n",
    "for i in range(0, n):     \n",
    "    print(a, end=\" \")    \n",
    "    a, b = b, a+b\n"
   ]
  },
  {
   "cell_type": "code",
   "execution_count": 21,
   "id": "d68a8e71-446c-43c7-88f3-d23ebfbadec4",
   "metadata": {},
   "outputs": [
    {
     "name": "stdin",
     "output_type": "stream",
     "text": [
      "enter the number:  5\n"
     ]
    },
    {
     "name": "stdout",
     "output_type": "stream",
     "text": [
      "sum of all given number upto 5 is 15\n"
     ]
    }
   ],
   "source": [
    "# 16.Write a Python code to calculate sum of all numbers \n",
    "# from 1 to a given number.\n",
    "\n",
    "n = int(input(\"enter the number: \"))\n",
    "sum = 0\n",
    "for i in range(1,n+1):\n",
    "    sum += i\n",
    "    \n",
    "print(\"sum of all given number upto\",n,\"is\",sum)"
   ]
  },
  {
   "cell_type": "code",
   "execution_count": 2,
   "id": "74bdc6d7-d236-439b-9506-0daf4e35b87e",
   "metadata": {},
   "outputs": [
    {
     "name": "stdin",
     "output_type": "stream",
     "text": [
      "enter the number 154\n"
     ]
    },
    {
     "name": "stdout",
     "output_type": "stream",
     "text": [
      "3\n"
     ]
    }
   ],
   "source": [
    "# 17.Write a Python code to count the total number of digits \n",
    "# in a number.\n",
    "\n",
    "# n = input(\"enter the number: \")\n",
    "# print(len(n))\n",
    "\n",
    "num=int(input(\"enter the number\"))\n",
    "count=0\n",
    "while num>0:\n",
    "   num=num//10\n",
    "   count=count+1 \n",
    "print(count)\n",
    "\n",
    "# EXTRA\n",
    "# n = input(\"enter the number: \")\n",
    "# n1 = []\n",
    "# for j in n:\n",
    "#    if (n.count(j)>=1 and j not in n1):\n",
    "#        print(f\"the total number of {j} in {n} is\",n.count(j))\n",
    "#        n1.append(j)"
   ]
  },
  {
   "cell_type": "code",
   "execution_count": 4,
   "id": "28147385-8e49-4cbe-9852-83d48949fb56",
   "metadata": {},
   "outputs": [
    {
     "name": "stdin",
     "output_type": "stream",
     "text": [
      "enter starting range:  1\n",
      "enter ending range:  10\n"
     ]
    },
    {
     "name": "stdout",
     "output_type": "stream",
     "text": [
      "prime number is:\n",
      "2 3 5 7 "
     ]
    }
   ],
   "source": [
    "# 18.Write a Python code to print all prime numbers within a range.\n",
    "start = int(input(\"enter starting range: \"))\n",
    "end = int(input(\"enter ending range: \"))\n",
    "\n",
    "print(\"prime number is:\")\n",
    "for i in range(start,end+1):\n",
    "    if i>1:\n",
    "        for j in range(2,i):\n",
    "            if i%j==0:\n",
    "                break\n",
    "        else:\n",
    "            print(i, end = \" \")\n",
    "\n",
    "# start = int(input(\"enter starting range: \"))\n",
    "# end = int(input(\"enter ending range: \"))\n",
    "# for number in range(start, end+1):  # Start checking from 2 and go up to an arbitrary upper limit\n",
    "#     if number <= 1:\n",
    "#         continue\n",
    "#     if number <= 3:\n",
    "#         print(number)\n",
    "\n",
    "#     if number % 2 == 0 or number % 3 == 0:\n",
    "#         continue\n",
    "#     i = 5\n",
    "#     while i * i <= number:\n",
    "#         if number % i == 0 or number % (i + 2) == 0:\n",
    "#             break\n",
    "#         i += 6\n",
    "#     else:  # This else block is executed when the while loop completes without a break\n",
    "#         print(number)\n",
    "\n"
   ]
  },
  {
   "cell_type": "code",
   "execution_count": 19,
   "id": "99fc3f94-fb3e-4675-b5f7-b61c0a5e75f2",
   "metadata": {},
   "outputs": [
    {
     "name": "stdin",
     "output_type": "stream",
     "text": [
      "Enter the number--> 3\n"
     ]
    },
    {
     "name": "stdout",
     "output_type": "stream",
     "text": [
      "The factorial of 3 is 6\n"
     ]
    }
   ],
   "source": [
    "#19.Write a Python code to find the factorial of a given number.\n",
    "\n",
    "def fact(num):\n",
    "    if num == 1 or num == 0:\n",
    "        return 1\n",
    "    else:\n",
    "        return (num*fact(num-1))\n",
    "n = int(input(\"Enter the number-->\"))       \n",
    "print(f\"The factorial of {n} is\",fact(n))"
   ]
  },
  {
   "cell_type": "code",
   "execution_count": 78,
   "id": "e41deece-4358-412b-bfe3-1583e72064b6",
   "metadata": {},
   "outputs": [
    {
     "name": "stdout",
     "output_type": "stream",
     "text": [
      "120\n"
     ]
    }
   ],
   "source": [
    "# 19\n",
    "n =5\n",
    "fact = 1\n",
    "if n == 1:\n",
    "    print (\"Factorial is 1\")\n",
    "for i in range(1,n+1):\n",
    "    fact = fact*i\n",
    "print(fact)"
   ]
  },
  {
   "cell_type": "code",
   "execution_count": 21,
   "id": "a923ae7d-7148-47d5-ae76-9997131d952e",
   "metadata": {},
   "outputs": [
    {
     "name": "stdin",
     "output_type": "stream",
     "text": [
      "Enter the number--> 1 2 3\n"
     ]
    },
    {
     "name": "stdout",
     "output_type": "stream",
     "text": [
      "The original list is [1, 2, 3]\n",
      "The reversal list is [3, 2, 1]\n"
     ]
    }
   ],
   "source": [
    "#20.Write a Python code to print list in reverse order \n",
    "# using a loop.\n",
    "\n",
    "l = [int(i) for i in input(\"Enter the number-->\").split()]\n",
    "print(\"The original list is {}\".format(l))\n",
    "print(\"The reversal list is\", l[::-1])"
   ]
  },
  {
   "cell_type": "code",
   "execution_count": 8,
   "id": "07a910bb-8903-445d-9ef9-4309394004e5",
   "metadata": {},
   "outputs": [
    {
     "name": "stdin",
     "output_type": "stream",
     "text": [
      "Enter the number--> 1 2 3 4 5 6\n"
     ]
    },
    {
     "name": "stdout",
     "output_type": "stream",
     "text": [
      "2\n",
      "4\n",
      "6\n"
     ]
    }
   ],
   "source": [
    "#21.Write a Python code to print elements from \n",
    "# a given list present at odd index positions.\n",
    "\n",
    "l = [int(i) for i in input(\"Enter the number-->\").split()]\n",
    "\n",
    "for i in range(len(l)):\n",
    "    if i%2 != 0:\n",
    "        print(l[i])"
   ]
  },
  {
   "cell_type": "code",
   "execution_count": 30,
   "id": "13c0435d-35d8-43ab-99e5-8495734b12b3",
   "metadata": {},
   "outputs": [
    {
     "name": "stdin",
     "output_type": "stream",
     "text": [
      "Enter the radius--> 6\n"
     ]
    },
    {
     "name": "stdout",
     "output_type": "stream",
     "text": [
      "The area of the given radius is 113.09733552923255\n"
     ]
    }
   ],
   "source": [
    "# 22.\tWrite a function to find area of a circle.\n",
    "import math\n",
    "def area(r):\n",
    "    a = r*r*math.pi\n",
    "    return a\n",
    "    \n",
    "print(\"The area of the given radius is\",area(int(input(\"Enter the radius-->\"))))"
   ]
  },
  {
   "cell_type": "code",
   "execution_count": 33,
   "id": "3edeed4a-e4c2-471f-9d73-9d1eba234a92",
   "metadata": {},
   "outputs": [
    {
     "name": "stdin",
     "output_type": "stream",
     "text": [
      "Enter the radius--> 5\n",
      "Enter the height--> 6\n"
     ]
    },
    {
     "name": "stdout",
     "output_type": "stream",
     "text": [
      "The volume of cylinder is 471.23889803846896\n"
     ]
    }
   ],
   "source": [
    "# 23.\tWrite a function to find volume of a cylinder.\n",
    "import math\n",
    "\n",
    "def volume(r,h):\n",
    "    v = r*r*h*math.pi\n",
    "    return v\n",
    "print(\"The volume of cylinder is\",volume(int(input(\"Enter the radius-->\")),int(input(\"Enter the height-->\"))))    "
   ]
  },
  {
   "cell_type": "code",
   "execution_count": null,
   "id": "5c70ffcc-103b-4440-a503-46b3f51209c4",
   "metadata": {},
   "outputs": [
    {
     "name": "stdin",
     "output_type": "stream",
     "text": [
      "Enter the Number---> 4\n"
     ]
    },
    {
     "name": "stdout",
     "output_type": "stream",
     "text": [
      "the number 4 is even.\n"
     ]
    }
   ],
   "source": [
    "# 24.Write a function to check given number is odd or even.\n",
    "\n",
    "def odd_even(num):\n",
    "    if num % 2 == 0:\n",
    "        return f'the number {num} is even.'\n",
    "    else:\n",
    "        return f'the number {num} is odd.'\n",
    "\n",
    "print(odd_even(int(input(\"Enter the Number--->\"))))"
   ]
  },
  {
   "cell_type": "code",
   "execution_count": 15,
   "id": "f346c6b7-f18d-43e4-a08e-7b37d689dfb6",
   "metadata": {},
   "outputs": [
    {
     "name": "stdin",
     "output_type": "stream",
     "text": [
      "Enter the Number---> 45\n",
      "Enter the Number---> 42\n",
      "Enter the Number---> 25\n"
     ]
    },
    {
     "name": "stdout",
     "output_type": "stream",
     "text": [
      "The maximum number is: 45\n"
     ]
    }
   ],
   "source": [
    "#25.Write a function to find maximum number from the given three numbers\n",
    "# Demonstrate the concept of default argument.\n",
    "\n",
    "def maximum(a=0, b=0, c=30):\n",
    "    return max(a, b, c)\n",
    "\n",
    "print(\"The maximum number is:\",maximum(int(input(\"Enter the Number--->\")), int(input(\"Enter the Number--->\")), int(input(\"Enter the Number--->\"))))"
   ]
  },
  {
   "cell_type": "code",
   "execution_count": 8,
   "id": "f6977e32-17b6-4d06-8e8a-c11606cbe7d6",
   "metadata": {},
   "outputs": [
    {
     "name": "stdin",
     "output_type": "stream",
     "text": [
      "Enter Length ---> 15\n",
      "Enter Width---> 10\n"
     ]
    },
    {
     "name": "stdout",
     "output_type": "stream",
     "text": [
      "perimeter of retangle is:  50\n"
     ]
    }
   ],
   "source": [
    "#26.Write a function that calculates the perimeter of a rectangle given its length and width.\n",
    "# Demonstrate the concept of keyword largument.\n",
    "\n",
    "def perimeter_rectangle(length, width):\n",
    "    return 2*(length + width)\n",
    "    \n",
    "\n",
    "print(\"perimeter of retangle is: \",perimeter_rectangle(length = int(input(\"Enter Length --->\")), width = int(input(\"Enter Width--->\"))))\n",
    "\n",
    "\n",
    "# def perimeter_rectangle(**kwargs):\n",
    "#     return 2*(kwargs['length'] + kwargs['width'])\n",
    "\n",
    "# print(\"perimeter of retangle is: \",perimeter_rectangle(length = 5, width = 10))\n"
   ]
  },
  {
   "cell_type": "code",
   "execution_count": 11,
   "id": "ed380fe1-07d0-48f7-93ec-5607b0cdf316",
   "metadata": {},
   "outputs": [
    {
     "name": "stdin",
     "output_type": "stream",
     "text": [
      "Enter the String--> hello dsc\n"
     ]
    },
    {
     "name": "stdout",
     "output_type": "stream",
     "text": [
      "number of vowels: 2\n"
     ]
    }
   ],
   "source": [
    "#27.Write a function that counts the number of vowels \n",
    "# (a, e, i, o, u) in a given string.\n",
    "\n",
    "def count_vowels(str):\n",
    "    count = 0\n",
    "    vowels = 'aeiouAEIOU'\n",
    "    \n",
    "    for i in str:\n",
    "        if i in vowels:\n",
    "            count += 1\n",
    "    return count\n",
    "print(\"number of vowels:\",count_vowels(input(\"Enter the String-->\")))\n",
    "\n",
    "\n",
    "#def count_vowels(str):\n",
    "#    a = str.count('a')\n",
    "#    e = str.count('e')\n",
    "#    i = str.count('i')\n",
    "#    o = str.count('o')\n",
    "#    u = str.count('u')\n",
    "#    return (a+e+i+o+u)\n",
    "\n",
    "# print(\"number of vowels:\",count_vowels(input(\"Enter the String-->\")))"
   ]
  },
  {
   "cell_type": "code",
   "execution_count": 14,
   "id": "9253f336-e9c7-487e-928e-4d5d5df5f36d",
   "metadata": {},
   "outputs": [
    {
     "name": "stdin",
     "output_type": "stream",
     "text": [
      "Enter elements: 1 2 3 4 5 6\n"
     ]
    },
    {
     "name": "stdout",
     "output_type": "stream",
     "text": [
      "The sum of all elements of list: 21\n"
     ]
    }
   ],
   "source": [
    "#28.Write a function that takes a list of numbers \n",
    "# and returns thesum of all the numbers.\n",
    "\n",
    "def sum_list(lst):\n",
    "    return sum(lst)\n",
    "    \n",
    "print(\"The sum of all elements of list:\",sum_list(int(i) for i in input(\"Enter elements:\").split()))"
   ]
  },
  {
   "cell_type": "code",
   "execution_count": 21,
   "id": "8c5d3cf4-95b0-4ee6-b23d-1b44a2d2bff2",
   "metadata": {},
   "outputs": [
    {
     "name": "stdin",
     "output_type": "stream",
     "text": [
      "Enter the String--> Hello DCS\n"
     ]
    },
    {
     "name": "stdout",
     "output_type": "stream",
     "text": [
      "The reversed string:  SCD olleH\n"
     ]
    }
   ],
   "source": [
    "#29.Write a function that takes a string \n",
    "# and returns the reversed string.\n",
    "\n",
    "def reverse_str(str):\n",
    "    return str[::-1]\n",
    "\n",
    "print(\"The reversed string: \",reverse_str(input(\"Enter the String-->\")))"
   ]
  },
  {
   "cell_type": "code",
   "execution_count": 25,
   "id": "4c82388e-9854-4c80-8e56-ba3cc106dba6",
   "metadata": {},
   "outputs": [
    {
     "name": "stdin",
     "output_type": "stream",
     "text": [
      "Enter the Number---> 5\n"
     ]
    },
    {
     "name": "stdout",
     "output_type": "stream",
     "text": [
      "number is prime number.\n"
     ]
    }
   ],
   "source": [
    "#30.Write a function that checks whether a given number is prime or not.\n",
    "\n",
    "def check_prime(num):\n",
    "    for i in range(2,num):\n",
    "        if num % i == 0:               \n",
    "            return False\n",
    "    return True\n",
    "if check_prime(int(input(\"Enter the Number--->\"))):\n",
    "    print(f\"number is prime number.\")\n",
    "else:\n",
    "    print(f\"number is not prime number.\")\n",
    "    "
   ]
  },
  {
   "cell_type": "code",
   "execution_count": 1,
   "id": "f60148f7-1eb7-4212-a848-a753f1d5d84f",
   "metadata": {},
   "outputs": [
    {
     "name": "stdin",
     "output_type": "stream",
     "text": [
      "enter starting range:  2\n",
      "enter ending range:  10\n"
     ]
    },
    {
     "name": "stdout",
     "output_type": "stream",
     "text": [
      "prime number is:\n",
      "2\n",
      "3\n",
      "5\n",
      "7\n"
     ]
    }
   ],
   "source": [
    "# 30\n",
    "start = int(input(\"enter starting range: \"))\n",
    "end = int(input(\"enter ending range: \"))\n",
    "\n",
    "print(\"prime number is:\")\n",
    "for i in range(start,end+1):\n",
    "    if i>1:\n",
    "        for j in range(2,i):\n",
    "            if i%j==0:\n",
    "                break\n",
    "        else:\n",
    "            print(i)\n"
   ]
  },
  {
   "cell_type": "code",
   "execution_count": 27,
   "id": "f84b3236-6647-4aab-8673-949237d88c9f",
   "metadata": {},
   "outputs": [
    {
     "name": "stdin",
     "output_type": "stream",
     "text": [
      "Enter Number: 5 6 55 0 256\n"
     ]
    },
    {
     "name": "stdout",
     "output_type": "stream",
     "text": [
      "The minimum value of list is:  0\n",
      "The maximum value of list is:  256\n"
     ]
    }
   ],
   "source": [
    "#31.Write a function that returns \n",
    "# both the minimum and maximum values in a list.\n",
    "\n",
    "def min_max(lst):\n",
    "    return min(lst),max(lst)\n",
    "\n",
    "#list1 = [int(i) for i in input(\"Enter Number:\").split()]\n",
    "minimum, maximum = min_max([int(i) for i in input(\"Enter Number:\").split()])\n",
    "print(\"The minimum value of list is: \",minimum)\n",
    "print(\"The maximum value of list is: \",maximum)"
   ]
  },
  {
   "cell_type": "code",
   "execution_count": 28,
   "id": "2f172c64-4ca5-4431-a5e5-cfdc7daf7eb0",
   "metadata": {},
   "outputs": [
    {
     "name": "stdin",
     "output_type": "stream",
     "text": [
      "Enter Base:  5\n",
      "Enter Exponent:  3\n"
     ]
    },
    {
     "name": "stdout",
     "output_type": "stream",
     "text": [
      "The power of a number is --->  125\n"
     ]
    }
   ],
   "source": [
    "# 32.Write a function that calculates the power of a number\n",
    "# given a base and an exponent.\n",
    "\n",
    "def power(base, exponent):\n",
    "    return base ** exponent\n",
    "\n",
    "print(\"The power of a number is ---> \",power(int(input(\"Enter Base: \")), int(input(\"Enter Exponent: \"))))"
   ]
  },
  {
   "cell_type": "code",
   "execution_count": 7,
   "id": "64e610fa-681b-49fc-bb1e-254d5056662e",
   "metadata": {},
   "outputs": [
    {
     "name": "stdout",
     "output_type": "stream",
     "text": [
      "KEYWORD ARGUMENTS:\n",
      "The Enrollment Number of student is:- 3\n",
      "The Name of student is:- niravi\n",
      "The Course of student is:- MSC IT\n",
      "\n",
      "DEFUALT ARGUMENTS:\n",
      "The Enrollment Number of student is:- 1\n",
      "The Name of student is:- Dhruvi\n",
      "The Course of student is:- MSC IT(DS)\n"
     ]
    }
   ],
   "source": [
    "# 33. Write a function that displays personal information of the students. Use the concepts of default arguments and keyword arguments.\n",
    "\n",
    "def info(enroll= 1, name='Dhruvi', course='MSC IT(DS)'):\n",
    "    print(\"The Enrollment Number of student is:-\", enroll)\n",
    "    print(\"The Name of student is:-\", name)\n",
    "    print(\"The Course of student is:-\", course)\n",
    "print(\"KEYWORD ARGUMENTS:\")\n",
    "info(enroll = 3, name = 'niravi', course = 'MSC IT')\n",
    "print(\"\\nDEFUALT ARGUMENTS:\")\n",
    "info()"
   ]
  },
  {
   "cell_type": "code",
   "execution_count": 60,
   "id": "3a2c9194-9e7f-40c1-b4cb-4a5fe8d8b124",
   "metadata": {},
   "outputs": [
    {
     "name": "stdin",
     "output_type": "stream",
     "text": [
      "Enter Numbers: 1 2 3 4 5\n"
     ]
    },
    {
     "name": "stdout",
     "output_type": "stream",
     "text": [
      "The sum of numbers is:  15\n"
     ]
    }
   ],
   "source": [
    "# 34. Write a function that calculates the sum of an arbitrary number of numbers passed to the function.\n",
    "\n",
    "def sum_of_arbitrary(*args):\n",
    "    return sum(args)\n",
    "\n",
    "print(\"The sum of numbers is: \",sum_of_arbitrary(*[int(i) for i in input(\"Enter Numbers:\").split()]))"
   ]
  },
  {
   "cell_type": "code",
   "execution_count": 68,
   "id": "e572b47e-3cba-444b-9149-2330431c0f0f",
   "metadata": {},
   "outputs": [
    {
     "name": "stdin",
     "output_type": "stream",
     "text": [
      "Enter Arguments:\n",
      " name=nirv num=3\n"
     ]
    },
    {
     "name": "stdout",
     "output_type": "stream",
     "text": [
      "name : nirv\n",
      "num : 3\n"
     ]
    }
   ],
   "source": [
    "# 35. Write a function that demonstrates the concepts of arbitrary keyword arguments (**kwargs).\n",
    "\n",
    "def keyword_argument(**kwargs):\n",
    "    #print(\"\\nKEY-VALUE PAIR:\")\n",
    "    for key, value in kwargs.items():\n",
    "        print(f'{key} : {value}')\n",
    "\n",
    "# Taking user input for key-value pairs\n",
    "# print(\"Enter key-value pairs (e.g., name=John age=30), separated by spaces:\")\n",
    "# Splitting input and converting it into a dictionary\n",
    "\n",
    "# Calling the function with the dictionary unpacked as keyword arguments\n",
    "keyword_argument(**dict(pair.split('=') for pair in input(\"Enter Arguments:\\n\").split()))"
   ]
  },
  {
   "cell_type": "code",
   "execution_count": 2,
   "id": "a6fd23a1-c2d0-4a0e-90ab-d1fe13883c01",
   "metadata": {},
   "outputs": [
    {
     "name": "stdin",
     "output_type": "stream",
     "text": [
      "Enter the number:  5\n"
     ]
    },
    {
     "name": "stdout",
     "output_type": "stream",
     "text": [
      "Sum from 1 to given number: 15\n"
     ]
    }
   ],
   "source": [
    "# 36. Write a recursive function that calculates the sum of all integers from 1 to n.\n",
    "\n",
    "def recursive_func(n):\n",
    "    if n == 1:\n",
    "        return 1\n",
    "    else:\n",
    "        return n + recursive_func(n-1)\n",
    "print(f\"Sum from 1 to given number:\", recursive_func(int(input(\"Enter the number: \"))))"
   ]
  },
  {
   "cell_type": "code",
   "execution_count": 7,
   "id": "a1be7baa-d851-472f-9b47-052a9ea62f9d",
   "metadata": {},
   "outputs": [
    {
     "name": "stdin",
     "output_type": "stream",
     "text": [
      "Enter the number:  5\n"
     ]
    },
    {
     "name": "stdout",
     "output_type": "stream",
     "text": [
      "Factorial number of 5: 120\n"
     ]
    }
   ],
   "source": [
    "# 37. Write a recursive function that finds the factorial value of a passed number to the function.\n",
    "\n",
    "def fact(n):\n",
    "    if n == 0:\n",
    "        return 1\n",
    "    else:\n",
    "        return n * fact(n-1)\n",
    "\n",
    "a = int(input(\"Enter the number: \"))\n",
    "print(f\"Factorial number of {a}:\", fact(a)) "
   ]
  },
  {
   "cell_type": "code",
   "execution_count": 3,
   "id": "c13f1bee-510e-453e-930a-e9f90712bd5f",
   "metadata": {},
   "outputs": [
    {
     "name": "stdin",
     "output_type": "stream",
     "text": [
      "Enter elements:  1 2 3 4 5 6\n"
     ]
    },
    {
     "name": "stdout",
     "output_type": "stream",
     "text": [
      "[1, 3, 5]\n",
      "[2, 4, 6]\n"
     ]
    }
   ],
   "source": [
    "# 38.Write a Python script to filter odd and even numbers from a list using lambda functions along with the filter() function.\n",
    "\n",
    "l = [int(i) for i in input(\"Enter elements: \").split()]\n",
    "\n",
    "odd_num = list(filter(lambda x : x % 2 != 0, l))\n",
    "even_num = list(filter(lambda x : x % 2 == 0, l))\n",
    "\n",
    "\n",
    "print(odd_num)\n",
    "print(even_num)"
   ]
  },
  {
   "cell_type": "code",
   "execution_count": 14,
   "id": "6ab05061-e9f0-425f-a57f-45fad288c799",
   "metadata": {},
   "outputs": [
    {
     "name": "stdout",
     "output_type": "stream",
     "text": [
      "Have a niced day !!\n",
      "Hy, Everyone !!!!\n",
      "Good Bye !!\n"
     ]
    }
   ],
   "source": [
    "# 39. Write a Python script to demonstrate the concept of Function Decorators.\n",
    "\n",
    "def my_decorator(func):\n",
    "    def inner():\n",
    "        print(\"Have a niced day !!\")\n",
    "        func()\n",
    "        print(\"Good Bye !!\")\n",
    "    return inner\n",
    "\n",
    "@my_decorator\n",
    "def say_hello():\n",
    "    print(\"Hy, Everyone !!!!\")\n",
    "    \n",
    "say_hello()"
   ]
  },
  {
   "cell_type": "code",
   "execution_count": 1,
   "id": "05c583c1-62d9-4d3d-978a-2e6aaf5fa885",
   "metadata": {},
   "outputs": [
    {
     "name": "stdout",
     "output_type": "stream",
     "text": [
      "1\n",
      "2\n",
      "3\n",
      "4\n",
      "5\n",
      "6\n",
      "7\n",
      "8\n",
      "9\n",
      "10\n"
     ]
    }
   ],
   "source": [
    "# 40. Write a Python script to print 1 to 10 numbers using the concept of generators.\n",
    "\n",
    "def my_generator(n):\n",
    "    count = 1\n",
    "    while count <= n:\n",
    "        yield count\n",
    "        count += 1\n",
    "        \n",
    "counter = my_generator(10)\n",
    "for i in counter:\n",
    "    print(i)"
   ]
  },
  {
   "cell_type": "code",
   "execution_count": 5,
   "id": "464ea9c1-94c9-41a0-949a-af14ac132b9b",
   "metadata": {},
   "outputs": [
    {
     "name": "stdout",
     "output_type": "stream",
     "text": [
      "[[100 110]\n",
      " [120 130]\n",
      " [140 150]\n",
      " [160 170]\n",
      " [180 190]]\n"
     ]
    }
   ],
   "source": [
    "# 41. Create a 5X2 integer array from a range between 100 to 200 such that the difference between each element is 10.\n",
    "\n",
    "import numpy as np\n",
    "\n",
    "a = np.arange(100, 200, 10)\n",
    "sampleArray = a.reshape(5,2)\n",
    "print (sampleArray)"
   ]
  },
  {
   "cell_type": "code",
   "execution_count": 10,
   "id": "ec8a1e55-38e9-4d28-a7f8-f03ff27ff679",
   "metadata": {},
   "outputs": [
    {
     "name": "stdout",
     "output_type": "stream",
     "text": [
      "Original Array:\n",
      " [[13  9 26 29]\n",
      " [43 18 14  1]\n",
      " [14 19 39 49]\n",
      " [28 23 17 43]\n",
      " [41  3 48  6]]\n",
      "Array of odd rows and even columns:\n",
      " [[ 9 29]\n",
      " [19 49]\n",
      " [ 3  6]]\n"
     ]
    }
   ],
   "source": [
    "# 42. Create a 5 X 4 integer array using a random integer function and return array of odd rows and even columns.\n",
    "\n",
    "import numpy as np\n",
    "\n",
    "a = np.random.randint(0, 50, size = (5, 4))\n",
    "print(\"Original Array:\\n\", a)\n",
    "\n",
    "print(\"Array of odd rows and even columns:\\n\", a[::2, 1::2])"
   ]
  },
  {
   "cell_type": "code",
   "execution_count": 4,
   "id": "4f2d9b2c-958f-4b94-8486-3d157f359265",
   "metadata": {},
   "outputs": [
    {
     "name": "stdout",
     "output_type": "stream",
     "text": [
      "Original Array:\n",
      " [[1 2 3]\n",
      " [4 5 6]\n",
      " [7 8 9]]\n",
      "Delete the second column from a given array:\n",
      " [[1 3]\n",
      " [4 6]\n",
      " [7 9]]\n",
      "insert the new column in its place:\n",
      " [[ 1 10  3]\n",
      " [ 4 11  6]\n",
      " [ 7 12  9]]\n"
     ]
    }
   ],
   "source": [
    "# 43. Delete the second column from a given 3 X 3 array and insert the new column in its place.\n",
    "import numpy as np\n",
    "\n",
    "a = np.array([[1, 2, 3], [4 , 5, 6], [7 , 8, 9]])\n",
    "print(\"Original Array:\\n\",a)\n",
    "\n",
    "deleted_column_array = np.delete(a, 1, axis = 1)\n",
    "print(\"Delete the second column from a given array:\\n\", deleted_column_array)\n",
    "\n",
    "b = np.array([10, 11, 12])\n",
    "insert_new_column_at_deleted_column = np.insert(deleted_column_array, 1, b, axis = 1)\n",
    "print(\"insert the new column in its place:\\n\", insert_new_column_at_deleted_column)"
   ]
  },
  {
   "cell_type": "code",
   "execution_count": 9,
   "id": "64e136fb-666d-4b8e-a869-a57b55f623a6",
   "metadata": {},
   "outputs": [
    {
     "name": "stdout",
     "output_type": "stream",
     "text": [
      "Original Array:\n",
      "[[1 2 3]\n",
      " [4 5 6]]\n",
      "Max value from axis 0:  [4 5 6]\n",
      "Min value from axis 1:  [1 4]\n"
     ]
    }
   ],
   "source": [
    "# 44. Print max from axis 0 and min from axis 1 from the given 2-D array.\n",
    "import numpy as np\n",
    "print(\"Original Array:\")\n",
    "a = np.array([[1, 2, 3], [4 , 5, 6]])\n",
    "print(a)\n",
    "\n",
    "print(\"Max value from axis 0: \", np.max(a, axis = 0))\n",
    "print(\"Min value from axis 1: \", np.min(a, axis = 1))"
   ]
  },
  {
   "cell_type": "code",
   "execution_count": 8,
   "id": "dc9121ef-75ca-4e55-9e52-a6228a926aae",
   "metadata": {},
   "outputs": [
    {
     "name": "stdout",
     "output_type": "stream",
     "text": [
      "Original Array:\n",
      " [[1 2 3]\n",
      " [6 4 5]\n",
      " [7 8 9]]\n",
      "\n",
      "Firstly, the elements sorted and then it gives the old indices of elements [1 2 0]\n",
      "\n",
      "New sorted Array:\n",
      "[[6 4 5]\n",
      " [7 8 9]\n",
      " [1 2 3]]\n"
     ]
    }
   ],
   "source": [
    "# 45. Sort the 3 X 3 NumPy array by the second row using the function argsort() and display a new sorted array.\n",
    "import numpy as np\n",
    "\n",
    "a = np.array([[1, 2, 3], [6, 4, 5], [7 , 8, 9]])\n",
    "print(\"Original Array:\\n\",a)\n",
    "\n",
    "Second_row = a[1]\n",
    "i = np.argsort(Second_row)\n",
    "print(\"\\nFirstly, the elements sorted and then it gives the old indices of elements\", i)\n",
    "\n",
    "print(\"\\nNew sorted Array:\")\n",
    "new_arr = a[i]\n",
    "print(new_arr)"
   ]
  },
  {
   "cell_type": "code",
   "execution_count": 11,
   "id": "0afcccf0-b7a5-4bba-8419-933a84e2ef32",
   "metadata": {},
   "outputs": [
    {
     "name": "stdout",
     "output_type": "stream",
     "text": [
      "Original Array:\n",
      " [[4 5 6]\n",
      " [1 2 3]\n",
      " [7 8 9]]\n",
      "\n",
      "It gives the indices of second column [1 0 2]\n",
      "\n",
      "New sorted Array:\n",
      "[[5 4 6]\n",
      " [2 1 3]\n",
      " [8 7 9]]\n"
     ]
    }
   ],
   "source": [
    "# 46. Sort the 3 X 3 NumPy array by the second column using the function argsort() and display a new sorted array.\n",
    "\n",
    "import numpy as np\n",
    "\n",
    "a = np.array([[4,5,6],[1,2,3],[7,8,9]])\n",
    "print(\"Original Array:\\n\",a)\n",
    "\n",
    "Second_column = a[:,1]\n",
    "i = np.argsort(Second_column)\n",
    "print(\"\\nIt gives the indices of second column\", i)\n",
    "print(\"\\nNew sorted Array:\")\n",
    "\n",
    "new_arr = a[:, i]\n",
    "print(new_arr)"
   ]
  },
  {
   "cell_type": "code",
   "execution_count": 13,
   "id": "d51154d0-bfd2-4abd-bb1d-1b1af3a04512",
   "metadata": {},
   "outputs": [
    {
     "name": "stdout",
     "output_type": "stream",
     "text": [
      "Orginal Array:\n",
      " [[ 1 11]\n",
      " [21 31]\n",
      " [41 51]\n",
      " [61 71]\n",
      " [81 91]]\n",
      "Loaded Array from saved file:\n",
      " [[ 1. 11.]\n",
      " [21. 31.]\n",
      " [41. 51.]\n",
      " [61. 71.]\n",
      " [81. 91.]]\n"
     ]
    }
   ],
   "source": [
    "# 47. Create a 5X2 integer array from a range between 1 to 100 such that the difference between each element is 10 \n",
    "# and save it to a text file using a comma delimiter and then display the saved array back into the program.\n",
    "\n",
    "import numpy as np\n",
    "\n",
    "a = np.arange(1, 100, 10)\n",
    "new_arr = a.reshape(5,2)\n",
    "print(\"Orginal Array:\\n\",new_arr)\n",
    "\n",
    "np.savetxt('MSC PRACTICAL.txt', new_arr, delimiter = ',')\n",
    "\n",
    "load_txt = np.loadtxt('MSC PRACTICAL.txt', delimiter = ',')\n",
    "print(\"Loaded Array from saved file:\\n\",load_txt)"
   ]
  },
  {
   "cell_type": "code",
   "execution_count": 14,
   "id": "ca8f36eb-c13e-4db2-8726-15f587d24a6c",
   "metadata": {},
   "outputs": [
    {
     "name": "stdout",
     "output_type": "stream",
     "text": [
      "[[25 43 30 41]\n",
      " [23  4  3 14]\n",
      " [ 5  9 14 33]\n",
      " [14 38 37 14]]\n"
     ]
    }
   ],
   "source": [
    "# 48. Generate a 4x4 array of random integers between 1 and 50.\n",
    "import numpy as np\n",
    "\n",
    "a = np.random.randint(1, 50, size=(4,4))\n",
    "print(a)"
   ]
  },
  {
   "cell_type": "code",
   "execution_count": 2,
   "id": "cd1c1dc4-c2ba-47ce-ad2b-05deefae2947",
   "metadata": {},
   "outputs": [
    {
     "name": "stdout",
     "output_type": "stream",
     "text": [
      "[1] First 5 rows:\n",
      "    eno   ename     city  Age  salary  bonus\n",
      "0  101  Khyati    Patan   29   70000   5000\n",
      "1  102    Diya  Mehsana   34   80000   7000\n",
      "2  103    Raag    Unjha   40   65000   4000\n",
      "3  104    Ansh  Chansma   25   55000   3000\n",
      "4  105    Anvi      NaN   28   72000   4500\n",
      "\n",
      "Last 5 rows:\n",
      "    eno   ename     city  Age  salary  bonus\n",
      "5  106   Nirvi  Mehsana   32   40000   4000\n",
      "6  107    Juli    Unjha   45   25000   2000\n",
      "7  108   Vinay  Chansma   54   35000   3000\n",
      "8  109   Viswa  Mehsana   33   22000   2200\n",
      "9  110  Bhoomi    Patan   29    1500   1550\n",
      "\n",
      "[2] Employees who are older than 30:\n",
      "     eno  ename     city  Age  salary  bonus\n",
      "1  102   Diya  Mehsana   34   80000   7000\n",
      "2  103   Raag    Unjha   40   65000   4000\n",
      "5  106  Nirvi  Mehsana   32   40000   4000\n",
      "6  107   Juli    Unjha   45   25000   2000\n",
      "7  108  Vinay  Chansma   54   35000   3000\n",
      "8  109  Viswa  Mehsana   33   22000   2200\n",
      "\n",
      "[3] Average Salary: 46550.0\n",
      "Average Bonus: 3625.0\n",
      "\n",
      "[4] New DataFrame:\n",
      "    eno   ename     city  Age  salary  bonus  Total_Income\n",
      "0  101  Khyati    Patan   29   70000   5000         75000\n",
      "1  102    Diya  Mehsana   34   80000   7000         87000\n",
      "2  103    Raag    Unjha   40   65000   4000         69000\n",
      "3  104    Ansh  Chansma   25   55000   3000         58000\n",
      "4  105    Anvi      NaN   28   72000   4500         76500\n",
      "5  106   Nirvi  Mehsana   32   40000   4000         44000\n",
      "6  107    Juli    Unjha   45   25000   2000         27000\n",
      "7  108   Vinay  Chansma   54   35000   3000         38000\n",
      "8  109   Viswa  Mehsana   33   22000   2200         24200\n",
      "9  110  Bhoomi    Patan   29    1500   1550          3050\n",
      "\n",
      "[5] Group by city:\n",
      "                salary   bonus\n",
      "                 mean    mean\n",
      "city                         \n",
      "Chansma  45000.000000  3000.0\n",
      "Mehsana  47333.333333  4400.0\n",
      "Patan    35750.000000  3275.0\n",
      "Unjha    45000.000000  3000.0\n",
      "\n",
      "[6] Sorted Data:\n",
      "    eno   ename     city  Age  salary  bonus  Total_Income\n",
      "1  102    Diya  Mehsana   34   80000   7000         87000\n",
      "4  105    Anvi      NaN   28   72000   4500         76500\n",
      "0  101  Khyati    Patan   29   70000   5000         75000\n",
      "2  103    Raag    Unjha   40   65000   4000         69000\n",
      "3  104    Ansh  Chansma   25   55000   3000         58000\n",
      "5  106   Nirvi  Mehsana   32   40000   4000         44000\n",
      "7  108   Vinay  Chansma   54   35000   3000         38000\n",
      "6  107    Juli    Unjha   45   25000   2000         27000\n",
      "8  109   Viswa  Mehsana   33   22000   2200         24200\n",
      "9  110  Bhoomi    Patan   29    1500   1550          3050\n",
      "\n",
      "[7] The Data Where Bonus is greater than Salary:\n",
      "    eno   ename   city  Age  salary  bonus  Total_Income\n",
      "9  110  Bhoomi  Patan   29    1500   1550          3050\n",
      "\n",
      "[8] Display missing Values if presented:\n",
      "    eno ename city  Age  salary  bonus  Total_Income\n",
      "4  105  Anvi  NaN   28   72000   4500         76500\n",
      "\n",
      "[9] The below data is stored as new_employee_data file: \n",
      "    eno   ename     city  Age  salary  bonus  Total_Income\n",
      "0  101  Khyati    Patan   29   70000   5000         75000\n",
      "1  102    Diya  Mehsana   34   80000   7000         87000\n",
      "2  103    Raag    Unjha   40   65000   4000         69000\n",
      "4  105    Anvi      NaN   28   72000   4500         76500\n",
      "\n",
      "[10] all employees of Patan with increasing 10% salary:\n",
      "    eno   ename   city  Age   salary  bonus  Total_Income\n",
      "0  101  Khyati  Patan   29  77000.0   5000         75000\n",
      "9  110  Bhoomi  Patan   29   1650.0   1550          3050\n",
      "\n",
      "\n",
      "[10] Whole table after increasing 10% salary of Patan Employee :\n",
      "    eno   ename     city  Age  salary  bonus  Total_Income\n",
      "0  101  Khyati    Patan   29   77000   5000         75000\n",
      "1  102    Diya  Mehsana   34   80000   7000         87000\n",
      "2  103    Raag    Unjha   40   65000   4000         69000\n",
      "3  104    Ansh  Chansma   25   55000   3000         58000\n",
      "4  105    Anvi      NaN   28   72000   4500         76500\n",
      "5  106   Nirvi  Mehsana   32   40000   4000         44000\n",
      "6  107    Juli    Unjha   45   25000   2000         27000\n",
      "7  108   Vinay  Chansma   54   35000   3000         38000\n",
      "8  109   Viswa  Mehsana   33   22000   2200         24200\n",
      "9  110  Bhoomi    Patan   29    1650   1550          3050\n"
     ]
    },
    {
     "name": "stderr",
     "output_type": "stream",
     "text": [
      "C:\\Users\\dhruv\\AppData\\Local\\Temp\\ipykernel_4944\\1116461908.py:46: SettingWithCopyWarning: \n",
      "A value is trying to be set on a copy of a slice from a DataFrame.\n",
      "Try using .loc[row_indexer,col_indexer] = value instead\n",
      "\n",
      "See the caveats in the documentation: https://pandas.pydata.org/pandas-docs/stable/user_guide/indexing.html#returning-a-view-versus-a-copy\n",
      "  dd['salary'] = dd['salary'] + (dd['salary']*0.1)\n"
     ]
    }
   ],
   "source": [
    "# 49. Create the following csv file for employee data. Perform the following action using this employee csv file for pandas in python.\n",
    "\n",
    "import pandas as pd\n",
    "\n",
    "# 1.  Load the CSV file into a Pandas DataFrame and display the first 5 rows and last five rows.\n",
    "df = pd.read_csv('employee_data.csv')\n",
    "print(\"[1] First 5 rows:\\n\", df.head(5))\n",
    "print(\"\\nLast 5 rows:\\n\", df.tail(5))\n",
    "\n",
    "# 2.  Select all employees who are older than 30 years.\n",
    "older_than_30 = df['Age']>30\n",
    "print(\"\\n[2] Employees who are older than 30:\\n \", df[older_than_30])\n",
    "\n",
    "# 3.  Find the average salary and bonus for all employees.\n",
    "avg_sal, avg_bonus = df['salary'].mean(), df['bonus'].mean()\n",
    "print(\"\\n[3] Average Salary:\",avg_sal)\n",
    "print(\"Average Bonus:\",avg_bonus)\n",
    "\n",
    "# 4.  Add a new column total_income which is the sum of salary and bonus for each employee.\n",
    "df['Total_Income'] = df['salary'] + df['bonus']\n",
    "print(\"\\n[4] New DataFrame:\\n\", df)\n",
    "\n",
    "# 5.  Group the employees by city and calculate the average salary and bonus for each city.\n",
    "grouped_data = df.groupby('city').agg({'salary': ['mean'], 'bonus':['mean']})\n",
    "print(\"\\n[5] Group by city:\\n\", grouped_data)\n",
    "\n",
    "# 6.  Sort the employees by salary in descending order.\n",
    "sorted_data = df.sort_values('salary', ascending= False)\n",
    "print(\"\\n[6] Sorted Data:\\n\", sorted_data)\n",
    "\n",
    "# 7.  Filter out employees where the bonus is greater than the salary.\n",
    "bonus_salary = df['bonus'] > df['salary']\n",
    "print(\"\\n[7] The Data Where Bonus is greater than Salary:\\n\",df[bonus_salary])\n",
    "\n",
    "# 8.  Check if there are any missing values in the DataFrame.\n",
    "missing_value = df[df.isnull().any(axis=1)]\n",
    "print(\"\\n[8] Display missing Values if presented:\\n\",missing_value)\n",
    "\n",
    "# 9.  Save all employees with a salary greater than 60,000 to a new CSV file.\n",
    "new_employee_data = df['salary'] > 60000\n",
    "print(\"\\n[9] The below data is stored as new_employee_data file: \\n\", df[new_employee_data])\n",
    "df[new_employee_data].to_csv('new_employee_data')\n",
    "\n",
    "# 10. Increase the salary of all employees from 'Patan' by 10%.'''\n",
    "dd =  df[df['city'] == 'Patan']\n",
    "dd['salary'] = dd['salary'] + (dd['salary']*0.1)\n",
    "print(\"\\n[10] all employees of Patan with increasing 10% salary:\\n\", dd)\n",
    "\n",
    "# 10. Increase the salary of all employees from 'Patan' by 10%.'''\n",
    "df.loc[df['city'] == 'Patan', 'salary'] += df['salary'] * 0.1\n",
    "print(\"\\n\\n[10] Whole table after increasing 10% salary of Patan Employee :\\n\", df)"
   ]
  },
  {
   "cell_type": "code",
   "execution_count": null,
   "id": "139ff726-3491-45a5-aa99-856d21f3758b",
   "metadata": {},
   "outputs": [],
   "source": []
  },
  {
   "cell_type": "code",
   "execution_count": null,
   "id": "2721828c-bb85-4da0-9de7-d5dade59cf13",
   "metadata": {},
   "outputs": [],
   "source": []
  },
  {
   "cell_type": "code",
   "execution_count": null,
   "id": "fd84545c-eb0d-448e-b26f-c75a569c2333",
   "metadata": {},
   "outputs": [],
   "source": []
  }
 ],
 "metadata": {
  "kernelspec": {
   "display_name": "Python 3 (ipykernel)",
   "language": "python",
   "name": "python3"
  },
  "language_info": {
   "codemirror_mode": {
    "name": "ipython",
    "version": 3
   },
   "file_extension": ".py",
   "mimetype": "text/x-python",
   "name": "python",
   "nbconvert_exporter": "python",
   "pygments_lexer": "ipython3",
   "version": "3.12.4"
  }
 },
 "nbformat": 4,
 "nbformat_minor": 5
}
